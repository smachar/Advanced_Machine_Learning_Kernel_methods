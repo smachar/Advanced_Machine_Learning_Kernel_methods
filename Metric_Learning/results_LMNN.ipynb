{
 "cells": [
  {
   "cell_type": "code",
   "execution_count": 63,
   "metadata": {},
   "outputs": [
    {
     "name": "stdout",
     "output_type": "stream",
     "text": [
      "The autoreload extension is already loaded. To reload it, use:\n",
      "  %reload_ext autoreload\n"
     ]
    }
   ],
   "source": [
    "%load_ext autoreload\n",
    "%autoreload 2\n",
    "\n",
    "import numpy as np\n",
    "from sklearn import datasets\n",
    "from sklearn.model_selection import train_test_split\n",
    "\n",
    "from texttable import Texttable\n",
    "import latextable\n",
    "\n",
    "# import sys\n",
    "# sys.path.append('../MMD/')\n",
    "import ml_lmnn\n",
    "\n",
    "from sklearn import decomposition\n",
    "\n",
    "np.random.seed(40)"
   ]
  },
  {
   "cell_type": "code",
   "execution_count": 89,
   "metadata": {},
   "outputs": [
    {
     "name": "stdout",
     "output_type": "stream",
     "text": [
      "(150, 4) (178, 13) {0, 1, 2} {0, 1, 2}\n"
     ]
    }
   ],
   "source": [
    "X_iris, y_iris = datasets.load_iris().data, datasets.load_iris().target\n",
    "X_wine, y_wine = datasets.load_wine().data, datasets.load_wine().target\n",
    "\n",
    "print(X_iris.shape, X_wine.shape, set(y_iris), set(y_wine))\n",
    "\n",
    "results = {}\n",
    "\n",
    "#dimensions to use with rbf-KPCA\n",
    "rs = [2, 3, 4]"
   ]
  },
  {
   "cell_type": "code",
   "execution_count": 90,
   "metadata": {},
   "outputs": [],
   "source": [
    "X_iris_train, X_iris_test, y_iris_train, y_iris_test = train_test_split(X_iris, y_iris, test_size=0.3, random_state=40)\n",
    "X_wine_train, X_wine_test, y_wine_train, y_wine_test = train_test_split(X_wine, y_wine, test_size=0.3, random_state=40)\n",
    "\n",
    "NN1_accuracies = (ml_lmnn.score_1NN(X_iris_train, y_iris_train, X_iris_test, y_iris_test),\n",
    "      ml_lmnn.score_1NN(X_wine_train, y_wine_train, X_wine_test, y_wine_test))\n",
    "\n",
    "NN1_accuracies_after_lmnn = (\n",
    "    ml_lmnn.score_1NN_after_lmnn(X_iris_train, y_iris_train, X_iris_test, y_iris_test, k=1),\n",
    "    ml_lmnn.score_1NN_after_lmnn(X_wine_train, y_wine_train, X_wine_test, y_wine_test, k=1)\n",
    "    )\n",
    "\n",
    "dists_original_space = ml_lmnn.mmd_dists(X_iris_train, y_iris_train, X_wine_train, y_wine_train)\n",
    "\n",
    "dists_after_lmnn = ml_lmnn.mmd_dists_after_lmnn(X_iris_train, y_iris_train, X_wine_train, y_wine_train)\n",
    "\n",
    "#results on original space\n",
    "results['os'] = {'1NN_os': NN1_accuracies, '1NN_lmnn': NN1_accuracies_after_lmnn, \n",
    "                 'mmd_os': dists_original_space, 'mmd_lmnn': dists_after_lmnn}\n",
    "\n",
    "\n",
    "#results when using rbf-Kernel with different dimensions\n",
    "# results['rbf'] = dict()\n",
    "for r in rs:\n",
    "    #transform data\n",
    "    X_iris_rbf = decomposition.KernelPCA(n_components=r, kernel='rbf').fit_transform(X_iris)\n",
    "    X_wine_rbf = decomposition.KernelPCA(n_components=r, kernel='rbf').fit_transform(X_wine)\n",
    "    \n",
    "    X_iris_train, X_iris_test, y_iris_train, y_iris_test = train_test_split(X_iris_rbf, y_iris, test_size=0.3, random_state=40)\n",
    "    X_wine_train, X_wine_test, y_wine_train, y_wine_test = train_test_split(X_wine_rbf, y_wine, test_size=0.3, random_state=40)\n",
    "    \n",
    "    NN1_accuracies = (ml_lmnn.score_1NN(X_iris_train, y_iris_train, X_iris_test, y_iris_test),\n",
    "      ml_lmnn.score_1NN(X_wine_train, y_wine_train, X_wine_test, y_wine_test))\n",
    "\n",
    "    NN1_accuracies_after_lmnn = (\n",
    "        ml_lmnn.score_1NN_after_lmnn(X_iris_train, y_iris_train, X_iris_test, y_iris_test, k=1),\n",
    "        ml_lmnn.score_1NN_after_lmnn(X_wine_train, y_wine_train, X_wine_test, y_wine_test, k=1)\n",
    "        )\n",
    "\n",
    "    dists_original_space = ml_lmnn.mmd_dists(X_iris_train, y_iris_train, X_wine_train, y_wine_train)\n",
    "    \n",
    "    dists_after_lmnn = ml_lmnn.mmd_dists_after_lmnn(X_iris_train, y_iris_train, X_wine_train, y_wine_train)\n",
    "    \n",
    "    results[r] =  {\n",
    "        '1NN_os': NN1_accuracies, '1NN_lmnn': NN1_accuracies_after_lmnn, \n",
    "        'mmd_os': dists_original_space, 'mmd_lmnn': dists_after_lmnn}\n"
   ]
  },
  {
   "cell_type": "code",
   "execution_count": 95,
   "metadata": {},
   "outputs": [
    {
     "name": "stdout",
     "output_type": "stream",
     "text": [
      "    Datasets      | 1NN os | 1NN after lmnn\n",
      "==================+========+===============\n",
      "      Iris        |  1.0   |     0.4667    \n",
      "------------------+--------+---------------\n",
      "      Wine        | 0.6481 |     0.3704    \n",
      "------------------+--------+---------------\n",
      "Iris rbf-KPCA (2) | 0.8889 |     0.5556    \n",
      "------------------+--------+---------------\n",
      "Wine rbf-KPCA (2) | 0.3704 |     0.3704    \n",
      "------------------+--------+---------------\n",
      "Iris rbf-KPCA (3) | 0.9111 |     0.3333    \n",
      "------------------+--------+---------------\n",
      "Wine rbf-KPCA (3) | 0.3704 |     0.3333    \n",
      "------------------+--------+---------------\n",
      "Iris rbf-KPCA (4) | 0.9778 |     0.6889    \n",
      "------------------+--------+---------------\n",
      "Wine rbf-KPCA (4) | 0.3704 |     0.3704    \n"
     ]
    }
   ],
   "source": [
    "rows = [\n",
    "        ['Datasets', '1NN os', '1NN after lmnn'],\n",
    "        ]\n",
    "\n",
    "dataset_names = [('Iris', 'Wine')]\n",
    "for r in rs:\n",
    "    dataset_names.append((f'Iris rbf-KPCA ({r})', f'Wine rbf-KPCA ({r})'))\n",
    "    \n",
    "\n",
    "for counter, i in enumerate(results.keys()):\n",
    "    row1 = [dataset_names[counter][0], str(round(results[i]['1NN_os'][0], 4)), str(round(results[i]['1NN_lmnn'][0], 4))]\n",
    "    row2 = [dataset_names[counter][1], str(round(results[i]['1NN_os'][1], 4)), str(round(results[i]['1NN_lmnn'][1], 4))]\n",
    "\n",
    "    rows.append(row1)\n",
    "    rows.append(row2)\n",
    "\n",
    "table = Texttable(max_width=0)\n",
    "table.set_cols_align([\"c\"] * len(rows[0]))\n",
    "table.set_deco(Texttable.HEADER | Texttable.VLINES | Texttable.HLINES)\n",
    "table.set_cols_dtype([\"t\"]*len(rows[0]))\n",
    "\n",
    "table.add_rows(rows=rows)\n",
    "print(table.draw())"
   ]
  },
  {
   "cell_type": "code",
   "execution_count": 97,
   "metadata": {},
   "outputs": [
    {
     "name": "stdout",
     "output_type": "stream",
     "text": [
      "\\begin{table}\n",
      "\t\\begin{center}\n",
      "\t\t\\begin{tabular}{c|c|c}\n",
      "\t\t\tDatasets & 1NN os & 1NN after lmnn \\\\\n",
      "\t\t\t\\hline\n",
      "\t\t\tIris & 1.0 & 0.4667 \\\\\n",
      "\t\t\t\\hline\n",
      "\t\t\tWine & 0.6481 & 0.3704 \\\\\n",
      "\t\t\t\\hline\n",
      "\t\t\tIris rbf-KPCA (2) & 0.8889 & 0.5556 \\\\\n",
      "\t\t\t\\hline\n",
      "\t\t\tWine rbf-KPCA (2) & 0.3704 & 0.3704 \\\\\n",
      "\t\t\t\\hline\n",
      "\t\t\tIris rbf-KPCA (3) & 0.9111 & 0.3333 \\\\\n",
      "\t\t\t\\hline\n",
      "\t\t\tWine rbf-KPCA (3) & 0.3704 & 0.3333 \\\\\n",
      "\t\t\t\\hline\n",
      "\t\t\tIris rbf-KPCA (4) & 0.9778 & 0.6889 \\\\\n",
      "\t\t\t\\hline\n",
      "\t\t\tWine rbf-KPCA (4) & 0.3704 & 0.3704 \\\\\n",
      "\t\t\\end{tabular}\n",
      "\t\\end{center}\n",
      "\t\\caption{1NN accuracy comparison between datasets and their KPCA transformation before and after LMNN projection.}\n",
      "\\end{table}\n"
     ]
    }
   ],
   "source": [
    "print(latextable.draw_latex(table, caption=\"1NN accuracy comparison between datasets and their KPCA transformation before and after LMNN projection.\"))"
   ]
  },
  {
   "cell_type": "code",
   "execution_count": 98,
   "metadata": {},
   "outputs": [
    {
     "name": "stdout",
     "output_type": "stream",
     "text": [
      "    Datasets      |        0-1 os         |        0-2 os        |        1-2 os        |       0-1 lmnn       |       0-2 lmnn       |       1-2 lmnn       \n",
      "==================+=======================+======================+======================+======================+======================+======================\n",
      "      Iris        |  10.489003348071265   |  22.253143598615935  |  2.333943783068804   |  46.991613121901935  |  95.88935532823876   |   9.027050976659723  \n",
      "------------------+-----------------------+----------------------+----------------------+----------------------+----------------------+----------------------\n",
      "      Wine        |  361161.67985665216   |  213240.27073315647  |  19412.325194987352  |  184.36903704034614  |  83.97250098322752   |  26.292380984508327  \n",
      "------------------+-----------------------+----------------------+----------------------+----------------------+----------------------+----------------------\n",
      "Iris rbf-KPCA (2) |  1.4540678188333527   |  1.5359100554085456  | 0.42513871539000014  |  83.36610878864359   |  83.34799940703058   |   8.866836843941945  \n",
      "------------------+-----------------------+----------------------+----------------------+----------------------+----------------------+----------------------\n",
      "Wine rbf-KPCA (2) | 0.0014203300885756503 | 0.004227686720609728 | 0.004800002196953085 |  1.4257339729074243  |  4.336984612555827   |  1.1458078063897261  \n",
      "------------------+-----------------------+----------------------+----------------------+----------------------+----------------------+----------------------\n",
      "Iris rbf-KPCA (3) |  1.4586554858084195   |  1.5423288502572015  | 0.42529210517914984  |  71.27702220769993   |  7.229123349796222   |   46.00290846756947  \n",
      "------------------+-----------------------+----------------------+----------------------+----------------------+----------------------+----------------------\n",
      "Wine rbf-KPCA (3) | 0.0027805382079268966 | 0.00530392819481051  | 0.004816606843744713 | 0.003612161412078778 | 0.006797124314059067 | 0.0060906946539115835\n",
      "------------------+-----------------------+----------------------+----------------------+----------------------+----------------------+----------------------\n",
      "Iris rbf-KPCA (4) |  1.4589467808136543   |  1.5459678218579462  |  0.4312815116555431  |  19.965530796471725  |   6.38856867649004   |  18.568500250749977  \n",
      "------------------+-----------------------+----------------------+----------------------+----------------------+----------------------+----------------------\n",
      "Wine rbf-KPCA (4) | 0.0051411823833926165 | 0.006910802003975307 | 0.004888867559175523 |  1.2520009103012362  |  0.2600706422178728  |  0.46811342278061985 \n"
     ]
    }
   ],
   "source": [
    "rows = [\n",
    "        ['Datasets', '0-1 os', '0-2 os', '1-2 os', '0-1 lmnn', '0-2 lmnn', '1-2 lmnn'],\n",
    "        ]\n",
    "\n",
    "dataset_names = [('Iris', 'Wine')]\n",
    "for r in rs:\n",
    "    dataset_names.append((f'Iris rbf-KPCA ({r})', f'Wine rbf-KPCA ({r})'))\n",
    "    \n",
    "\n",
    "for counter, i in enumerate(results.keys()):\n",
    "    row1 = [dataset_names[counter][0],\n",
    "            results[i]['mmd_os']['iris'][0][0], \n",
    "            results[i]['mmd_os']['iris'][0][1],\n",
    "            results[i]['mmd_os']['iris'][1][1],\n",
    "            \n",
    "            results[i]['mmd_lmnn']['iris'][0][0], \n",
    "            results[i]['mmd_lmnn']['iris'][0][1],\n",
    "            results[i]['mmd_lmnn']['iris'][1][1],\n",
    "        ]\n",
    "    \n",
    "    row2 = [dataset_names[counter][1],\n",
    "            results[i]['mmd_os']['wine'][0][0], \n",
    "            results[i]['mmd_os']['wine'][0][1],\n",
    "            results[i]['mmd_os']['wine'][1][1],\n",
    "            \n",
    "            results[i]['mmd_lmnn']['wine'][0][0], \n",
    "            results[i]['mmd_lmnn']['wine'][0][1],\n",
    "            results[i]['mmd_lmnn']['wine'][1][1],\n",
    "        ]\n",
    "\n",
    "    rows.append(row1)\n",
    "    rows.append(row2)\n",
    "\n",
    "table = Texttable(max_width=0)\n",
    "table.set_cols_align([\"c\"] * len(rows[0]))\n",
    "table.set_deco(Texttable.HEADER | Texttable.VLINES | Texttable.HLINES)\n",
    "table.set_cols_dtype([\"t\"]*len(rows[0]))\n",
    "\n",
    "table.add_rows(rows=rows)\n",
    "print(table.draw())"
   ]
  },
  {
   "cell_type": "code",
   "execution_count": 100,
   "metadata": {},
   "outputs": [
    {
     "name": "stdout",
     "output_type": "stream",
     "text": [
      "\\begin{table}\n",
      "\t\\begin{center}\n",
      "\t\t\\begin{tabular}{c|c|c|c|c|c|c}\n",
      "\t\t\tDatasets & 0-1 os & 0-2 os & 1-2 os & 0-1 lmnn & 0-2 lmnn & 1-2 lmnn \\\\\n",
      "\t\t\t\\hline\n",
      "\t\t\tIris & 10.489003348071265 & 22.253143598615935 & 2.333943783068804 & 46.991613121901935 & 95.88935532823876 & 9.027050976659723 \\\\\n",
      "\t\t\t\\hline\n",
      "\t\t\tWine & 361161.67985665216 & 213240.27073315647 & 19412.325194987352 & 184.36903704034614 & 83.97250098322752 & 26.292380984508327 \\\\\n",
      "\t\t\t\\hline\n",
      "\t\t\tIris rbf-KPCA (2) & 1.4540678188333527 & 1.5359100554085456 & 0.42513871539000014 & 83.36610878864359 & 83.34799940703058 & 8.866836843941945 \\\\\n",
      "\t\t\t\\hline\n",
      "\t\t\tWine rbf-KPCA (2) & 0.0014203300885756503 & 0.004227686720609728 & 0.004800002196953085 & 1.4257339729074243 & 4.336984612555827 & 1.1458078063897261 \\\\\n",
      "\t\t\t\\hline\n",
      "\t\t\tIris rbf-KPCA (3) & 1.4586554858084195 & 1.5423288502572015 & 0.42529210517914984 & 71.27702220769993 & 7.229123349796222 & 46.00290846756947 \\\\\n",
      "\t\t\t\\hline\n",
      "\t\t\tWine rbf-KPCA (3) & 0.0027805382079268966 & 0.00530392819481051 & 0.004816606843744713 & 0.003612161412078778 & 0.006797124314059067 & 0.0060906946539115835 \\\\\n",
      "\t\t\t\\hline\n",
      "\t\t\tIris rbf-KPCA (4) & 1.4589467808136543 & 1.5459678218579462 & 0.4312815116555431 & 19.965530796471725 & 6.38856867649004 & 18.568500250749977 \\\\\n",
      "\t\t\t\\hline\n",
      "\t\t\tWine rbf-KPCA (4) & 0.0051411823833926165 & 0.006910802003975307 & 0.004888867559175523 & 1.2520009103012362 & 0.2600706422178728 & 0.46811342278061985 \\\\\n",
      "\t\t\\end{tabular}\n",
      "\t\\end{center}\n",
      "\t\\caption{MMD distance comparison between different labels (0-1) of datasets in original space (os) and after LMNN projection of train-datapoints only}\n",
      "\\end{table}\n"
     ]
    }
   ],
   "source": [
    "print(latextable.draw_latex(table, caption=\"MMD distance comparison between different labels (0-1) of datasets in original space (os) and after LMNN projection of train-datapoints only\"))"
   ]
  },
  {
   "cell_type": "code",
   "execution_count": 101,
   "metadata": {},
   "outputs": [
    {
     "data": {
      "text/plain": [
       "{'os': {'1NN_os': (1.0, 0.6481481481481481),\n",
       "  '1NN_lmnn': (0.4666666666666667, 0.37037037037037035),\n",
       "  'mmd_os': {'iris': {0: [10.489003348071265, 22.253143598615935],\n",
       "    1: [10.489003348071265, 2.333943783068804],\n",
       "    2: [22.25314359861592, 2.333943783068804]},\n",
       "   'wine': {0: [361161.67985665216, 213240.27073315647],\n",
       "    1: [361161.67985665216, 19412.325194987352],\n",
       "    2: [213240.27073315647, 19412.325194987236]}},\n",
       "  'mmd_lmnn': {'iris': {0: [46.991613121901935, 95.88935532823876],\n",
       "    1: [46.99161312190199, 9.027050976659723],\n",
       "    2: [95.88935532823871, 9.02705097665978]},\n",
       "   'wine': {0: [184.36903704034614, 83.97250098322752],\n",
       "    1: [184.36903704034614, 26.292380984508327],\n",
       "    2: [83.97250098322752, 26.292380984508213]}}},\n",
       " 2: {'1NN_os': (0.8888888888888888, 0.37037037037037035),\n",
       "  '1NN_lmnn': (0.5555555555555556, 0.37037037037037035),\n",
       "  'mmd_os': {'iris': {0: [1.4540678188333527, 1.5359100554085456],\n",
       "    1: [1.4540678188333527, 0.42513871539000014],\n",
       "    2: [1.5359100554085456, 0.42513871539000014]},\n",
       "   'wine': {0: [0.0014203300885756503, 0.004227686720609728],\n",
       "    1: [0.0014203300885756503, 0.004800002196953085],\n",
       "    2: [0.004227686720609728, 0.004800002196953085]}},\n",
       "  'mmd_lmnn': {'iris': {0: [83.36610878864359, 83.34799940703058],\n",
       "    1: [83.36610878864359, 8.866836843941945],\n",
       "    2: [83.34799940703058, 8.866836843941948]},\n",
       "   'wine': {0: [1.4257339729074243, 4.336984612555827],\n",
       "    1: [1.4257339729074245, 1.1458078063897261],\n",
       "    2: [4.336984612555827, 1.1458078063897257]}}},\n",
       " 3: {'1NN_os': (0.9111111111111111, 0.37037037037037035),\n",
       "  '1NN_lmnn': (0.3333333333333333, 0.3333333333333333),\n",
       "  'mmd_os': {'iris': {0: [1.4586554858084195, 1.5423288502572015],\n",
       "    1: [1.4586554858084195, 0.42529210517914984],\n",
       "    2: [1.5423288502572012, 0.42529210517914984]},\n",
       "   'wine': {0: [0.0027805382079268966, 0.00530392819481051],\n",
       "    1: [0.0027805382079268966, 0.004816606843744713],\n",
       "    2: [0.00530392819481051, 0.004816606843744713]}},\n",
       "  'mmd_lmnn': {'iris': {0: [71.27702220769993, 7.229123349796222],\n",
       "    1: [71.27702220769994, 46.00290846756947],\n",
       "    2: [7.22912334979622, 46.00290846756947]},\n",
       "   'wine': {0: [0.003612161412078778, 0.006797124314059067],\n",
       "    1: [0.0036121614120787774, 0.0060906946539115835],\n",
       "    2: [0.006797124314059067, 0.0060906946539115835]}}},\n",
       " 4: {'1NN_os': (0.9777777777777777, 0.37037037037037035),\n",
       "  '1NN_lmnn': (0.6888888888888889, 0.37037037037037035),\n",
       "  'mmd_os': {'iris': {0: [1.4589467808136543, 1.5459678218579462],\n",
       "    1: [1.4589467808136543, 0.4312815116555431],\n",
       "    2: [1.5459678218579462, 0.4312815116555431]},\n",
       "   'wine': {0: [0.0051411823833926165, 0.006910802003975307],\n",
       "    1: [0.0051411823833926165, 0.004888867559175523],\n",
       "    2: [0.006910802003975307, 0.004888867559175523]}},\n",
       "  'mmd_lmnn': {'iris': {0: [19.965530796471725, 6.38856867649004],\n",
       "    1: [19.965530796471725, 18.568500250749977],\n",
       "    2: [6.38856867649004, 18.568500250749977]},\n",
       "   'wine': {0: [1.2520009103012362, 0.2600706422178728],\n",
       "    1: [1.2520009103012362, 0.46811342278061985],\n",
       "    2: [0.26007064221787296, 0.46811342278061985]}}}}"
      ]
     },
     "execution_count": 101,
     "metadata": {},
     "output_type": "execute_result"
    }
   ],
   "source": [
    "results"
   ]
  }
 ],
 "metadata": {
  "kernelspec": {
   "display_name": "Python 3.11.0 64-bit",
   "language": "python",
   "name": "python3"
  },
  "language_info": {
   "codemirror_mode": {
    "name": "ipython",
    "version": 3
   },
   "file_extension": ".py",
   "mimetype": "text/x-python",
   "name": "python",
   "nbconvert_exporter": "python",
   "pygments_lexer": "ipython3",
   "version": "3.11.0"
  },
  "orig_nbformat": 4,
  "vscode": {
   "interpreter": {
    "hash": "d29554b5e851f3c8b2d8a6b5834617bc238b0ac62da789463b8ab7d6edefb598"
   }
  }
 },
 "nbformat": 4,
 "nbformat_minor": 2
}
